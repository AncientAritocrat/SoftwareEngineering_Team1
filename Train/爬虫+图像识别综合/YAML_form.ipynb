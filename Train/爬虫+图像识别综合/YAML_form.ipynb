{
 "cells": [
  {
   "cell_type": "code",
   "execution_count": 2,
   "id": "57e43e33-72de-4052-94d9-9ac980fca9a2",
   "metadata": {},
   "outputs": [
    {
     "name": "stdin",
     "output_type": "stream",
     "text": [
      "请输入 train 图片地址: 1\n",
      "请输入 valid 图片地址： 2\n",
      "请输入 test 图片地址： 3\n",
      "请输入类别数量： 4\n",
      "请输入类别对应标签，用逗号分隔： a,b,c,d\n",
      "请输入要保存的 YAML 文件名（不需要后缀）： test\n"
     ]
    },
    {
     "name": "stdout",
     "output_type": "stream",
     "text": [
      "YAML 文件已生成！\n"
     ]
    }
   ],
   "source": [
    "import yaml\n",
    "\n",
    "def generate_yaml(train_path, valid_path, test_path, names, yaml_file):\n",
    "    data = {\n",
    "        'train': train_path,\n",
    "        'valid': valid_path,\n",
    "        'test': test_path,\n",
    "        'names': names\n",
    "    }\n",
    "    with open(f'{yaml_file}.yaml', 'w') as file:\n",
    "        yaml.dump(data, file)\n",
    "\n",
    "def main():\n",
    "    train_path = input(\"请输入 train 图片地址:\")\n",
    "    valid_path = input(\"请输入 valid 图片地址：\")\n",
    "    test_path = input(\"请输入 test 图片地址：\")\n",
    "    nc = input(\"请输入类别数量：\")\n",
    "    names = input(\"请输入类别对应标签，用逗号分隔：\").split(',')\n",
    "    yaml_file = input(\"请输入要保存的 YAML 文件名（不需要后缀）：\")\n",
    "\n",
    "    generate_yaml(train_path, valid_path, test_path, names, yaml_file)\n",
    "    print(\"YAML 文件已生成！\")\n",
    "\n",
    "if __name__ == \"__main__\":\n",
    "    main()\n"
   ]
  },
  {
   "cell_type": "code",
   "execution_count": null,
   "id": "0e3c127b-b3ec-4183-89e2-1fdc73720167",
   "metadata": {},
   "outputs": [],
   "source": []
  }
 ],
 "metadata": {
  "kernelspec": {
   "display_name": "Python 3 (ipykernel)",
   "language": "python",
   "name": "python3"
  },
  "language_info": {
   "codemirror_mode": {
    "name": "ipython",
    "version": 3
   },
   "file_extension": ".py",
   "mimetype": "text/x-python",
   "name": "python",
   "nbconvert_exporter": "python",
   "pygments_lexer": "ipython3",
   "version": "3.8.18"
  }
 },
 "nbformat": 4,
 "nbformat_minor": 5
}
