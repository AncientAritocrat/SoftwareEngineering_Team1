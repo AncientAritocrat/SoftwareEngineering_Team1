{
 "cells": [
  {
   "cell_type": "code",
   "execution_count": 15,
   "id": "a21b5d63-f2ae-4bd6-9b55-ce0da6dccd7c",
   "metadata": {},
   "outputs": [],
   "source": [
    "from flask import Flask, request, render_template, redirect, url_for\n",
    "from werkzeug.utils import secure_filename\n",
    "import os"
   ]
  },
  {
   "cell_type": "code",
   "execution_count": 16,
   "id": "5eb9235b-c0ef-4f49-8832-89f230cb3d1c",
   "metadata": {},
   "outputs": [],
   "source": [
    "# 创建一个 Flask 应用程序对象\n",
    "app = Flask(__name__)"
   ]
  },
  {
   "cell_type": "code",
   "execution_count": 17,
   "id": "1a700821-4858-4130-ac60-72a5814d7107",
   "metadata": {},
   "outputs": [],
   "source": [
    "# 设置上传文件保存的目录\n",
    "UPLOAD_FOLDER = 'uploads'\n",
    "app.config['UPLOAD_FOLDER'] = UPLOAD_FOLDER\n",
    "\n",
    "# 允许的文件类型\n",
    "ALLOWED_EXTENSIONS = {'dwg', 'geojson'}"
   ]
  },
  {
   "cell_type": "code",
   "execution_count": 18,
   "id": "e2149e23-b21a-448f-9b9b-6f8af022abb2",
   "metadata": {},
   "outputs": [],
   "source": [
    "# 检查文件扩展名是否允许\n",
    "def allowed_file(filename):\n",
    "    return '.' in filename and \\\n",
    "           filename.rsplit('.', 1)[1].lower() in ALLOWED_EXTENSIONS"
   ]
  },
  {
   "cell_type": "code",
   "execution_count": 19,
   "id": "42ff0662-d1dc-4a70-b1a5-595eb6dd22d6",
   "metadata": {},
   "outputs": [],
   "source": [
    "# 主页，显示上传表单\n",
    "@app.route('/', methods=['GET', 'POST'])\n",
    "def upload_file():\n",
    "    if request.method == 'POST':\n",
    "        # 检查文件是否存在于请求中\n",
    "        if 'file' not in request.files:\n",
    "            return redirect(request.url)\n",
    "        file = request.files['file']\n",
    "        # 如果用户未选择文件，或者文件名为空，则直接返回主页\n",
    "        if file.filename == '':\n",
    "            return redirect(request.url)\n",
    "        # 如果文件存在且符合规定的文件类型\n",
    "        if file and allowed_file(file.filename):\n",
    "            # 使用 secure_filename 函数确保文件名安全\n",
    "            filename = secure_filename(file.filename)\n",
    "            # 将文件保存到指定目录\n",
    "            file.save(os.path.join(app.config['UPLOAD_FOLDER'], filename))\n",
    "            # 重定向到上传成功页面\n",
    "            return redirect(url_for('uploaded_file', filename=filename))\n",
    "    return render_template('upload.html')"
   ]
  },
  {
   "cell_type": "code",
   "execution_count": 20,
   "id": "2fc0cf87-bb49-476c-8936-88dc2d2a4c3f",
   "metadata": {},
   "outputs": [
    {
     "name": "stdout",
     "output_type": "stream",
     "text": [
      " * Serving Flask app '__main__'\n",
      " * Debug mode: on\n"
     ]
    },
    {
     "name": "stderr",
     "output_type": "stream",
     "text": [
      "WARNING: This is a development server. Do not use it in a production deployment. Use a production WSGI server instead.\n",
      " * Running on http://127.0.0.1:5000\n",
      "Press CTRL+C to quit\n",
      " * Restarting with stat\n"
     ]
    },
    {
     "ename": "SystemExit",
     "evalue": "1",
     "output_type": "error",
     "traceback": [
      "An exception has occurred, use %tb to see the full traceback.\n",
      "\u001b[1;31mSystemExit\u001b[0m\u001b[1;31m:\u001b[0m 1\n"
     ]
    }
   ],
   "source": [
    "# 上传成功后的页面\n",
    "@app.route('/uploads/<filename>')\n",
    "def uploaded_file(filename):\n",
    "    return f'File uploaded successfully: {filename}'\n",
    "\n",
    "if __name__ == '__main__':\n",
    "    app.run(debug=True)"
   ]
  },
  {
   "cell_type": "code",
   "execution_count": null,
   "id": "378e8ec5-66e4-43fb-a0a6-78068d5eceeb",
   "metadata": {},
   "outputs": [],
   "source": []
  }
 ],
 "metadata": {
  "kernelspec": {
   "display_name": "Python 3 (ipykernel)",
   "language": "python",
   "name": "python3"
  },
  "language_info": {
   "codemirror_mode": {
    "name": "ipython",
    "version": 3
   },
   "file_extension": ".py",
   "mimetype": "text/x-python",
   "name": "python",
   "nbconvert_exporter": "python",
   "pygments_lexer": "ipython3",
   "version": "3.8.18"
  }
 },
 "nbformat": 4,
 "nbformat_minor": 5
}
