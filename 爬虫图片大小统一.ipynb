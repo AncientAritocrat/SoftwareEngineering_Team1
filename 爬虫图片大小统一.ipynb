{
 "cells": [
  {
   "cell_type": "code",
   "execution_count": null,
   "id": "ad367df1-bdad-4a67-b7b2-8a4188e1d6d8",
   "metadata": {},
   "outputs": [],
   "source": [
    "from PIL import Image\n",
    "import os\n",
    "\n",
    "#将输入文件夹中的所有图片调整为目标大小，并保存到输出文件夹中。\n",
    "def resize_images(input_folder, output_folder, target_size):\n",
    "    \n",
    "    # 确保输出文件夹存在\n",
    "    if not os.path.exists(output_folder):\n",
    "        os.makedirs(output_folder)\n",
    "    \n",
    "    # 遍历输入文件夹中的所有图片\n",
    "    for filename in os.listdir(input_folder):\n",
    "        try:\n",
    "            # 打开图片\n",
    "            img = Image.open(os.path.join(input_folder, filename))\n",
    "            # 调整大小\n",
    "            resized_img = img.resize(target_size, Image.ANTIALIAS)\n",
    "            \n",
    "            # 获取用户输入的新文件夹路径\n",
    "            new_output_folder = input(\"请输入保存调整后图片的文件夹路径：\")\n",
    "            if not os.path.exists(new_output_folder):\n",
    "                os.makedirs(new_output_folder)\n",
    "                \n",
    "            # 保存调整大小后的图片\n",
    "            resized_img.save(os.path.join(new_output_folder, filename))\n",
    "        except Exception as e:\n",
    "            print(f\"Error processing {filename}: {e}\")\n",
    "\n",
    "# 使用示例\n",
    "input_folder = input(\"请输入输入图片所在文件夹的路径：\")\n",
    "output_folder = input(\"请输入输出图片所在文件夹的路径：\")\n",
    "width = int(input(\"请输入调整后图片的宽度：\"))\n",
    "height = int(input(\"请输入调整后图片的高度：\"))\n",
    "target_size = (width, height)\n",
    "\n",
    "resize_images(input_folder, output_folder, target_size)\n",
    "\n"
   ]
  }
 ],
 "metadata": {
  "kernelspec": {
   "display_name": "Python 3 (ipykernel)",
   "language": "python",
   "name": "python3"
  },
  "language_info": {
   "codemirror_mode": {
    "name": "ipython",
    "version": 3
   },
   "file_extension": ".py",
   "mimetype": "text/x-python",
   "name": "python",
   "nbconvert_exporter": "python",
   "pygments_lexer": "ipython3",
   "version": "3.8.18"
  }
 },
 "nbformat": 4,
 "nbformat_minor": 5
}
