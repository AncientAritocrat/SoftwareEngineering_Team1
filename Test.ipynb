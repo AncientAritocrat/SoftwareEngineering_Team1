{
 "cells": [
  {
   "cell_type": "code",
   "execution_count": 5,
   "id": "3a9827bb-c5f5-4198-b57a-1b8a7011f8d0",
   "metadata": {},
   "outputs": [
    {
     "name": "stdout",
     "output_type": "stream",
     "text": [
      "\n",
      "image 1/1 C:\\Users\\冯祎欣\\软件工程作业\\surface_crack_detection\\crack\\test\\images\\00357_jpg.rf.3df6007e6bbd27283c3bb52ea1ee54c9.jpg: 640x640 1 No-crack, 152.9ms\n",
      "Speed: 6.0ms preprocess, 152.9ms inference, 8.0ms postprocess per image at shape (1, 3, 640, 640)\n",
      "Results saved to \u001b[1mruns\\detect\\predict\u001b[0m\n"
     ]
    },
    {
     "data": {
      "text/plain": [
       "[ultralytics.engine.results.Results object with attributes:\n",
       " \n",
       " boxes: ultralytics.engine.results.Boxes object\n",
       " keypoints: None\n",
       " masks: None\n",
       " names: {0: 'Crack', 1: 'No-crack'}\n",
       " obb: None\n",
       " orig_img: array([[[172, 185, 193],\n",
       "         [170, 183, 191],\n",
       "         [167, 180, 188],\n",
       "         ...,\n",
       "         [183, 196, 198],\n",
       "         [183, 196, 198],\n",
       "         [182, 195, 197]],\n",
       " \n",
       "        [[172, 185, 193],\n",
       "         [171, 184, 192],\n",
       "         [167, 180, 188],\n",
       "         ...,\n",
       "         [183, 196, 198],\n",
       "         [182, 195, 197],\n",
       "         [181, 194, 196]],\n",
       " \n",
       "        [[169, 182, 190],\n",
       "         [167, 180, 188],\n",
       "         [164, 177, 185],\n",
       "         ...,\n",
       "         [181, 194, 196],\n",
       "         [180, 193, 195],\n",
       "         [180, 193, 195]],\n",
       " \n",
       "        ...,\n",
       " \n",
       "        [[160, 175, 178],\n",
       "         [160, 175, 178],\n",
       "         [160, 175, 178],\n",
       "         ...,\n",
       "         [159, 172, 174],\n",
       "         [159, 172, 174],\n",
       "         [159, 172, 174]],\n",
       " \n",
       "        [[160, 175, 178],\n",
       "         [160, 175, 178],\n",
       "         [160, 175, 178],\n",
       "         ...,\n",
       "         [158, 171, 173],\n",
       "         [158, 171, 173],\n",
       "         [158, 171, 173]],\n",
       " \n",
       "        [[160, 175, 178],\n",
       "         [160, 175, 178],\n",
       "         [160, 175, 178],\n",
       "         ...,\n",
       "         [158, 171, 173],\n",
       "         [158, 171, 173],\n",
       "         [158, 171, 173]]], dtype=uint8)\n",
       " orig_shape: (640, 640)\n",
       " path: 'C:\\\\Users\\\\冯祎欣\\\\软件工程作业\\\\surface_crack_detection\\\\crack\\\\test\\\\images\\\\00357_jpg.rf.3df6007e6bbd27283c3bb52ea1ee54c9.jpg'\n",
       " probs: None\n",
       " save_dir: 'runs\\\\detect\\\\predict'\n",
       " speed: {'preprocess': 6.001949310302734, 'inference': 152.8925895690918, 'postprocess': 7.999897003173828}]"
      ]
     },
     "execution_count": 5,
     "metadata": {},
     "output_type": "execute_result"
    }
   ],
   "source": [
    "from ultralytics import YOLO\n",
    "# 导入训练好的模型 best.pt\n",
    "model = YOLO(r'C:\\Users\\冯祎欣\\软件工程作业\\surface_crack_detection\\crack\\runs\\detect\\train4\\weights\\best.pt')\n",
    "# 测试数据\n",
    "image_path = r'C:\\Users\\冯祎欣\\软件工程作业\\surface_crack_detection\\crack\\test\\images\\00357_jpg.rf.3df6007e6bbd27283c3bb52ea1ee54c9.jpg'\n",
    "model.predict(image_path, save=True)"
   ]
  },
  {
   "cell_type": "code",
   "execution_count": null,
   "id": "a6150a53-66f7-4d5a-9a4d-e965d4b55830",
   "metadata": {},
   "outputs": [],
   "source": []
  }
 ],
 "metadata": {
  "kernelspec": {
   "display_name": "Python 3 (ipykernel)",
   "language": "python",
   "name": "python3"
  },
  "language_info": {
   "codemirror_mode": {
    "name": "ipython",
    "version": 3
   },
   "file_extension": ".py",
   "mimetype": "text/x-python",
   "name": "python",
   "nbconvert_exporter": "python",
   "pygments_lexer": "ipython3",
   "version": "3.8.18"
  }
 },
 "nbformat": 4,
 "nbformat_minor": 5
}
