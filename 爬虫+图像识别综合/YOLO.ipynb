{
 "cells": [
  {
   "cell_type": "code",
   "execution_count": null,
   "id": "8c918932-3313-4bc5-a62f-3028f7d79874",
   "metadata": {},
   "outputs": [],
   "source": [
    "from ultralytics import YOLO"
   ]
  },
  {
   "cell_type": "code",
   "execution_count": null,
   "id": "e111365a-82b2-46ee-a693-c80864fc4bee",
   "metadata": {},
   "outputs": [],
   "source": [
    "model=YOLO('yolov8n.pt')\n",
    "name_yaml = input(\"请输入要保存的 YAML 文件名称（不加后缀）：\") + \".yaml\"\n",
    "model.train(data='name_yaml',epoch=100)\n",
    "model.val()"
   ]
  },
  {
   "cell_type": "code",
   "execution_count": null,
   "id": "1bf70aa5-8c94-4614-a86d-c909f6f09167",
   "metadata": {},
   "outputs": [],
   "source": [
    "# test\n",
    "model=YOLO('best.pt')"
   ]
  },
  {
   "cell_type": "code",
   "execution_count": null,
   "id": "34641836-245b-4eec-a827-df614744f2d4",
   "metadata": {},
   "outputs": [],
   "source": [
    "class YOLO:\n",
    "    def __init__(self, model_path):\n",
    "        self.model_path = model_path\n",
    "    \n",
    "    def predict(self, image_path, save=False):\n",
    "        # 进行预测操作\n",
    "        print(\"进行预测...\")\n",
    "        if save:\n",
    "            print(\"保存预测结果...\")\n",
    "\n",
    "def main():\n",
    "    model_path = input(\"请输入模型文件的路径：\")\n",
    "    model = YOLO(model_path)\n",
    "    \n",
    "    while True:\n",
    "        image_path = input(\"请输入要预测的图片路径：\")\n",
    "        save_option = input(\"是否保存预测结果？(yes/no): \").lower()\n",
    "        if save_option == \"yes\":\n",
    "            model.predict(image_path, save=True)\n",
    "        else:\n",
    "            model.predict(image_path)\n",
    "        \n",
    "        again = input(\"是否继续预测？(yes/no): \").lower()\n",
    "        if again != \"yes\":\n",
    "            break\n",
    "\n",
    "if __name__ == \"__main__\":\n",
    "    main()\n"
   ]
  }
 ],
 "metadata": {
  "kernelspec": {
   "display_name": "Python 3 (ipykernel)",
   "language": "python",
   "name": "python3"
  },
  "language_info": {
   "codemirror_mode": {
    "name": "ipython",
    "version": 3
   },
   "file_extension": ".py",
   "mimetype": "text/x-python",
   "name": "python",
   "nbconvert_exporter": "python",
   "pygments_lexer": "ipython3",
   "version": "3.8.18"
  }
 },
 "nbformat": 4,
 "nbformat_minor": 5
}
