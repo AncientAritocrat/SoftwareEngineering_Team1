{
 "cells": [
  {
   "cell_type": "code",
   "execution_count": 1,
   "id": "f98d75cc-d68a-492e-acb5-ffee2c6a8e50",
   "metadata": {},
   "outputs": [],
   "source": [
    "# 混凝土裂缝识别"
   ]
  },
  {
   "cell_type": "code",
   "execution_count": 3,
   "id": "3baad80c-cb23-4039-9ead-3b0e8707fb85",
   "metadata": {},
   "outputs": [],
   "source": [
    "import numpy as np\n",
    "import pandas as pd\n",
    "\n",
    "import matplotlib.pyplot as plt\n",
    "import seaborn as sns\n",
    "import plotly.express as px\n",
    "\n",
    "from pathlib import Path\n",
    "from sklearn.model_selection import train_test_split\n",
    "\n",
    "import tensorflow as tf\n",
    "\n",
    "from sklearn.metrics import confusion_matrix, classification_report"
   ]
  },
  {
   "cell_type": "code",
   "execution_count": 4,
   "id": "9be670c7-7b41-4d7c-88ae-bd47f65b0b18",
   "metadata": {},
   "outputs": [],
   "source": [
    "positive_dir = Path(r\"E:\\download\\surface-crack-detection\\Positive\")\n",
    "negative_dir = Path(r\"E:\\download\\surface-crack-detection\\Negative\")"
   ]
  },
  {
   "cell_type": "code",
   "execution_count": 5,
   "id": "f04bc8a8-7b11-43f1-bd81-cad7d872441e",
   "metadata": {},
   "outputs": [],
   "source": [
    "# Create DadaFrames\n",
    "def generate_df(image_dir, label):\n",
    "    filepaths = pd.Series(list(image_dir.glob(r'*.jpg')), name='Filepath').astype(str)\n",
    "    labels = pd.Series(label, name='Label', index=filepaths.index)\n",
    "    df = pd.concat([filepaths, labels], axis=1)\n",
    "    return df"
   ]
  },
  {
   "cell_type": "code",
   "execution_count": 6,
   "id": "9c4c2336-d347-4a4e-9c6c-e564be2928d8",
   "metadata": {},
   "outputs": [
    {
     "data": {
      "text/html": [
       "<div>\n",
       "<style scoped>\n",
       "    .dataframe tbody tr th:only-of-type {\n",
       "        vertical-align: middle;\n",
       "    }\n",
       "\n",
       "    .dataframe tbody tr th {\n",
       "        vertical-align: top;\n",
       "    }\n",
       "\n",
       "    .dataframe thead th {\n",
       "        text-align: right;\n",
       "    }\n",
       "</style>\n",
       "<table border=\"1\" class=\"dataframe\">\n",
       "  <thead>\n",
       "    <tr style=\"text-align: right;\">\n",
       "      <th></th>\n",
       "      <th>Filepath</th>\n",
       "      <th>Label</th>\n",
       "    </tr>\n",
       "  </thead>\n",
       "  <tbody>\n",
       "    <tr>\n",
       "      <th>0</th>\n",
       "      <td>E:\\download\\surface-crack-detection\\Positive\\0...</td>\n",
       "      <td>POSITIVE</td>\n",
       "    </tr>\n",
       "    <tr>\n",
       "      <th>1</th>\n",
       "      <td>E:\\download\\surface-crack-detection\\Positive\\1...</td>\n",
       "      <td>POSITIVE</td>\n",
       "    </tr>\n",
       "    <tr>\n",
       "      <th>2</th>\n",
       "      <td>E:\\download\\surface-crack-detection\\Positive\\1...</td>\n",
       "      <td>POSITIVE</td>\n",
       "    </tr>\n",
       "    <tr>\n",
       "      <th>3</th>\n",
       "      <td>E:\\download\\surface-crack-detection\\Negative\\1...</td>\n",
       "      <td>NEGATIVE</td>\n",
       "    </tr>\n",
       "    <tr>\n",
       "      <th>4</th>\n",
       "      <td>E:\\download\\surface-crack-detection\\Positive\\0...</td>\n",
       "      <td>POSITIVE</td>\n",
       "    </tr>\n",
       "    <tr>\n",
       "      <th>...</th>\n",
       "      <td>...</td>\n",
       "      <td>...</td>\n",
       "    </tr>\n",
       "    <tr>\n",
       "      <th>39995</th>\n",
       "      <td>E:\\download\\surface-crack-detection\\Positive\\0...</td>\n",
       "      <td>POSITIVE</td>\n",
       "    </tr>\n",
       "    <tr>\n",
       "      <th>39996</th>\n",
       "      <td>E:\\download\\surface-crack-detection\\Negative\\1...</td>\n",
       "      <td>NEGATIVE</td>\n",
       "    </tr>\n",
       "    <tr>\n",
       "      <th>39997</th>\n",
       "      <td>E:\\download\\surface-crack-detection\\Positive\\0...</td>\n",
       "      <td>POSITIVE</td>\n",
       "    </tr>\n",
       "    <tr>\n",
       "      <th>39998</th>\n",
       "      <td>E:\\download\\surface-crack-detection\\Positive\\1...</td>\n",
       "      <td>POSITIVE</td>\n",
       "    </tr>\n",
       "    <tr>\n",
       "      <th>39999</th>\n",
       "      <td>E:\\download\\surface-crack-detection\\Negative\\1...</td>\n",
       "      <td>NEGATIVE</td>\n",
       "    </tr>\n",
       "  </tbody>\n",
       "</table>\n",
       "<p>40000 rows × 2 columns</p>\n",
       "</div>"
      ],
      "text/plain": [
       "                                                Filepath     Label\n",
       "0      E:\\download\\surface-crack-detection\\Positive\\0...  POSITIVE\n",
       "1      E:\\download\\surface-crack-detection\\Positive\\1...  POSITIVE\n",
       "2      E:\\download\\surface-crack-detection\\Positive\\1...  POSITIVE\n",
       "3      E:\\download\\surface-crack-detection\\Negative\\1...  NEGATIVE\n",
       "4      E:\\download\\surface-crack-detection\\Positive\\0...  POSITIVE\n",
       "...                                                  ...       ...\n",
       "39995  E:\\download\\surface-crack-detection\\Positive\\0...  POSITIVE\n",
       "39996  E:\\download\\surface-crack-detection\\Negative\\1...  NEGATIVE\n",
       "39997  E:\\download\\surface-crack-detection\\Positive\\0...  POSITIVE\n",
       "39998  E:\\download\\surface-crack-detection\\Positive\\1...  POSITIVE\n",
       "39999  E:\\download\\surface-crack-detection\\Negative\\1...  NEGATIVE\n",
       "\n",
       "[40000 rows x 2 columns]"
      ]
     },
     "execution_count": 6,
     "metadata": {},
     "output_type": "execute_result"
    }
   ],
   "source": [
    "positive_df = generate_df(positive_dir, label=\"POSITIVE\")\n",
    "negative_df = generate_df(negative_dir, label=\"NEGATIVE\")\n",
    "\n",
    "all_df = pd.concat([positive_df, negative_df], axis=0).sample(frac=1.0, random_state=1).reset_index(drop=True)\n",
    "all_df"
   ]
  },
  {
   "cell_type": "code",
   "execution_count": 7,
   "id": "c1279eb7-222d-461d-87df-4478acf75ce8",
   "metadata": {},
   "outputs": [],
   "source": [
    "train_df, test_df = train_test_split(\n",
    "    all_df.sample(1000, random_state=1),\n",
    "    train_size=0.7,\n",
    "    shuffle=True,\n",
    "    random_state=1\n",
    ")"
   ]
  },
  {
   "cell_type": "code",
   "execution_count": 8,
   "id": "8d9b320f-cdce-49f8-9214-838ccb1cf90a",
   "metadata": {},
   "outputs": [],
   "source": [
    "# Load Data\n",
    "train_gen = tf.keras.preprocessing.image.ImageDataGenerator(\n",
    "    rescale=1./255,\n",
    "    validation_split=0.2\n",
    ")\n",
    "\n",
    "test_gen = tf.keras.preprocessing.image.ImageDataGenerator(\n",
    "    rescale=1./255\n",
    ")"
   ]
  },
  {
   "cell_type": "code",
   "execution_count": 9,
   "id": "d8f7cb7e-01c3-4582-94dc-631c5d9f0f0f",
   "metadata": {},
   "outputs": [
    {
     "name": "stdout",
     "output_type": "stream",
     "text": [
      "Found 560 validated image filenames belonging to 2 classes.\n",
      "Found 140 validated image filenames belonging to 2 classes.\n",
      "Found 300 validated image filenames belonging to 2 classes.\n"
     ]
    }
   ],
   "source": [
    "train_data = train_gen.flow_from_dataframe(\n",
    "    train_df,\n",
    "    x_col='Filepath',\n",
    "    y_col='Label',\n",
    "    target_size=(120, 120),\n",
    "    color_mode='rgb',\n",
    "    class_mode='binary',\n",
    "    batch_size=32,\n",
    "    shuffle=True,\n",
    "    seed=42,\n",
    "    subset='training'\n",
    ")\n",
    "val_data = train_gen.flow_from_dataframe(\n",
    "    train_df,\n",
    "    x_col='Filepath',\n",
    "    y_col='Label',\n",
    "    target_size=(120, 120),\n",
    "    color_mode='rgb',\n",
    "    class_mode='binary',\n",
    "    batch_size=32,\n",
    "    shuffle=True,\n",
    "    seed=42,\n",
    "    subset='validation'\n",
    ")\n",
    "test_data = train_gen.flow_from_dataframe(\n",
    "    test_df,\n",
    "    x_col='Filepath',\n",
    "    y_col='Label',\n",
    "    target_size=(120, 120),\n",
    "    color_mode='rgb',\n",
    "    class_mode='binary',\n",
    "    batch_size=32,\n",
    "    shuffle=False,\n",
    "    seed=42\n",
    ")"
   ]
  },
  {
   "cell_type": "code",
   "execution_count": 10,
   "id": "bbae8a2d-1ad8-453d-bc74-f7b34bd76da1",
   "metadata": {},
   "outputs": [
    {
     "name": "stdout",
     "output_type": "stream",
     "text": [
      "Model: \"model\"\n",
      "_________________________________________________________________\n",
      "Layer (type)                 Output Shape              Param #   \n",
      "=================================================================\n",
      "input_1 (InputLayer)         [(None, 120, 120, 3)]     0         \n",
      "_________________________________________________________________\n",
      "conv2d (Conv2D)              (None, 118, 118, 16)      448       \n",
      "_________________________________________________________________\n",
      "max_pooling2d (MaxPooling2D) (None, 59, 59, 16)        0         \n",
      "_________________________________________________________________\n",
      "conv2d_1 (Conv2D)            (None, 57, 57, 32)        4640      \n",
      "_________________________________________________________________\n",
      "max_pooling2d_1 (MaxPooling2 (None, 28, 28, 32)        0         \n",
      "_________________________________________________________________\n",
      "global_average_pooling2d (Gl (None, 32)                0         \n",
      "_________________________________________________________________\n",
      "dense (Dense)                (None, 1)                 33        \n",
      "=================================================================\n",
      "Total params: 5,121\n",
      "Trainable params: 5,121\n",
      "Non-trainable params: 0\n",
      "_________________________________________________________________\n",
      "None\n"
     ]
    }
   ],
   "source": [
    "# Train\n",
    "inputs = tf.keras.Input(shape=(120, 120, 3))\n",
    "x = tf.keras.layers.Conv2D(filters=16, kernel_size=(3, 3), activation='relu')(inputs)\n",
    "x = tf.keras.layers.MaxPool2D(pool_size=(2, 2))(x)\n",
    "x = tf.keras.layers.Conv2D(filters=32, kernel_size=(3, 3), activation='relu')(x)\n",
    "x = tf.keras.layers.MaxPool2D(pool_size=(2, 2))(x)\n",
    "x = tf.keras.layers.GlobalAveragePooling2D()(x)\n",
    "outputs = tf.keras.layers.Dense(1, activation='sigmoid')(x)\n",
    "\n",
    "model = tf.keras.Model(inputs=inputs, outputs=outputs)\n",
    "\n",
    "model.compile(\n",
    "    optimizer='adam',\n",
    "    loss='binary_crossentropy',\n",
    "    metrics=['accuracy']\n",
    ")\n",
    "\n",
    "print(model.summary())"
   ]
  },
  {
   "cell_type": "code",
   "execution_count": 11,
   "id": "045dc1c6-6f5c-4fe6-9d93-51ff4a22c113",
   "metadata": {},
   "outputs": [
    {
     "name": "stdout",
     "output_type": "stream",
     "text": [
      "Epoch 1/50\n",
      "18/18 [==============================] - 2s 87ms/step - loss: 0.6926 - accuracy: 0.5536 - val_loss: 0.6879 - val_accuracy: 0.5286\n",
      "Epoch 2/50\n",
      "18/18 [==============================] - 1s 80ms/step - loss: 0.6857 - accuracy: 0.5429 - val_loss: 0.6808 - val_accuracy: 0.6500\n",
      "Epoch 3/50\n",
      "18/18 [==============================] - 1s 81ms/step - loss: 0.6798 - accuracy: 0.5857 - val_loss: 0.6678 - val_accuracy: 0.6857\n",
      "Epoch 4/50\n",
      "18/18 [==============================] - 1s 83ms/step - loss: 0.6739 - accuracy: 0.5625 - val_loss: 0.6577 - val_accuracy: 0.7000\n",
      "Epoch 5/50\n",
      "18/18 [==============================] - 1s 83ms/step - loss: 0.6650 - accuracy: 0.6143 - val_loss: 0.6491 - val_accuracy: 0.7643\n",
      "Epoch 6/50\n",
      "18/18 [==============================] - 1s 81ms/step - loss: 0.6520 - accuracy: 0.6357 - val_loss: 0.6379 - val_accuracy: 0.7071\n",
      "Epoch 7/50\n",
      "18/18 [==============================] - 1s 81ms/step - loss: 0.6386 - accuracy: 0.6607 - val_loss: 0.6247 - val_accuracy: 0.7500\n",
      "Epoch 8/50\n",
      "18/18 [==============================] - 1s 81ms/step - loss: 0.6418 - accuracy: 0.6482 - val_loss: 0.6204 - val_accuracy: 0.7357\n",
      "Epoch 9/50\n",
      "18/18 [==============================] - 1s 82ms/step - loss: 0.6392 - accuracy: 0.6375 - val_loss: 0.6094 - val_accuracy: 0.7286\n",
      "Epoch 10/50\n",
      "18/18 [==============================] - 1s 81ms/step - loss: 0.6193 - accuracy: 0.7000 - val_loss: 0.5967 - val_accuracy: 0.8000\n",
      "Epoch 11/50\n",
      "18/18 [==============================] - 1s 80ms/step - loss: 0.6239 - accuracy: 0.6054 - val_loss: 0.5936 - val_accuracy: 0.6857\n",
      "Epoch 12/50\n",
      "18/18 [==============================] - 1s 81ms/step - loss: 0.5996 - accuracy: 0.7321 - val_loss: 0.6008 - val_accuracy: 0.6571\n",
      "Epoch 13/50\n",
      "18/18 [==============================] - 1s 81ms/step - loss: 0.6045 - accuracy: 0.6714 - val_loss: 0.5674 - val_accuracy: 0.8071\n",
      "Epoch 14/50\n",
      "18/18 [==============================] - 1s 83ms/step - loss: 0.5828 - accuracy: 0.7411 - val_loss: 0.5729 - val_accuracy: 0.7071\n",
      "Epoch 15/50\n",
      "18/18 [==============================] - 2s 83ms/step - loss: 0.5750 - accuracy: 0.7143 - val_loss: 0.5749 - val_accuracy: 0.7143\n",
      "Epoch 16/50\n",
      "18/18 [==============================] - 1s 81ms/step - loss: 0.5693 - accuracy: 0.7125 - val_loss: 0.5295 - val_accuracy: 0.8143\n",
      "Epoch 17/50\n",
      "18/18 [==============================] - 1s 81ms/step - loss: 0.5409 - accuracy: 0.7982 - val_loss: 0.5261 - val_accuracy: 0.8214\n",
      "Epoch 18/50\n",
      "18/18 [==============================] - 1s 81ms/step - loss: 0.5269 - accuracy: 0.8089 - val_loss: 0.4996 - val_accuracy: 0.8286\n",
      "Epoch 19/50\n",
      "18/18 [==============================] - 1s 83ms/step - loss: 0.5145 - accuracy: 0.8125 - val_loss: 0.5016 - val_accuracy: 0.8143\n",
      "Epoch 20/50\n",
      "18/18 [==============================] - 1s 82ms/step - loss: 0.5269 - accuracy: 0.7429 - val_loss: 0.4918 - val_accuracy: 0.8286\n",
      "Epoch 21/50\n",
      "18/18 [==============================] - 1s 81ms/step - loss: 0.4988 - accuracy: 0.8250 - val_loss: 0.4697 - val_accuracy: 0.8643\n",
      "Epoch 22/50\n",
      "18/18 [==============================] - 1s 81ms/step - loss: 0.4890 - accuracy: 0.8429 - val_loss: 0.4602 - val_accuracy: 0.9143\n",
      "Epoch 23/50\n",
      "18/18 [==============================] - 1s 81ms/step - loss: 0.4661 - accuracy: 0.8714 - val_loss: 0.4385 - val_accuracy: 0.8929\n",
      "Epoch 24/50\n",
      "18/18 [==============================] - 2s 84ms/step - loss: 0.4641 - accuracy: 0.8661 - val_loss: 0.4340 - val_accuracy: 0.8929\n",
      "Epoch 25/50\n",
      "18/18 [==============================] - 1s 80ms/step - loss: 0.4504 - accuracy: 0.8518 - val_loss: 0.4253 - val_accuracy: 0.9071\n",
      "Epoch 26/50\n",
      "18/18 [==============================] - 1s 81ms/step - loss: 0.4341 - accuracy: 0.8625 - val_loss: 0.4143 - val_accuracy: 0.9214\n",
      "Epoch 27/50\n",
      "18/18 [==============================] - 2s 84ms/step - loss: 0.4164 - accuracy: 0.8875 - val_loss: 0.4138 - val_accuracy: 0.8643\n",
      "Epoch 28/50\n",
      "18/18 [==============================] - 1s 81ms/step - loss: 0.4049 - accuracy: 0.8625 - val_loss: 0.3864 - val_accuracy: 0.9071\n",
      "Epoch 29/50\n",
      "18/18 [==============================] - 1s 81ms/step - loss: 0.3853 - accuracy: 0.9018 - val_loss: 0.3814 - val_accuracy: 0.9000\n",
      "Epoch 30/50\n",
      "18/18 [==============================] - 1s 82ms/step - loss: 0.3817 - accuracy: 0.9143 - val_loss: 0.3481 - val_accuracy: 0.9500\n",
      "Epoch 31/50\n",
      "18/18 [==============================] - 2s 84ms/step - loss: 0.3577 - accuracy: 0.9071 - val_loss: 0.3311 - val_accuracy: 0.9429\n",
      "Epoch 32/50\n",
      "18/18 [==============================] - 2s 84ms/step - loss: 0.3523 - accuracy: 0.9196 - val_loss: 0.3223 - val_accuracy: 0.9500\n",
      "Epoch 33/50\n",
      "18/18 [==============================] - 1s 82ms/step - loss: 0.3346 - accuracy: 0.8911 - val_loss: 0.3090 - val_accuracy: 0.9429\n",
      "Epoch 34/50\n",
      "18/18 [==============================] - 1s 81ms/step - loss: 0.3169 - accuracy: 0.9179 - val_loss: 0.3143 - val_accuracy: 0.9286\n",
      "Epoch 35/50\n",
      "18/18 [==============================] - 1s 80ms/step - loss: 0.3095 - accuracy: 0.9321 - val_loss: 0.3111 - val_accuracy: 0.9143\n",
      "Epoch 36/50\n",
      "18/18 [==============================] - 1s 82ms/step - loss: 0.2968 - accuracy: 0.9107 - val_loss: 0.2792 - val_accuracy: 0.9429\n",
      "Epoch 37/50\n",
      "18/18 [==============================] - 1s 83ms/step - loss: 0.2744 - accuracy: 0.9196 - val_loss: 0.2595 - val_accuracy: 0.9571\n",
      "Epoch 38/50\n",
      "18/18 [==============================] - 2s 87ms/step - loss: 0.2710 - accuracy: 0.9214 - val_loss: 0.2524 - val_accuracy: 0.9643\n",
      "Epoch 39/50\n",
      "18/18 [==============================] - 2s 104ms/step - loss: 0.2585 - accuracy: 0.9054 - val_loss: 0.2499 - val_accuracy: 0.9643\n",
      "Epoch 40/50\n",
      "18/18 [==============================] - 2s 90ms/step - loss: 0.2504 - accuracy: 0.9321 - val_loss: 0.2469 - val_accuracy: 0.9714\n",
      "Epoch 41/50\n",
      "18/18 [==============================] - 1s 82ms/step - loss: 0.2365 - accuracy: 0.9286 - val_loss: 0.2295 - val_accuracy: 0.9429\n",
      "Epoch 42/50\n",
      "18/18 [==============================] - 2s 84ms/step - loss: 0.2252 - accuracy: 0.9357 - val_loss: 0.2198 - val_accuracy: 0.9643\n",
      "Epoch 43/50\n",
      "18/18 [==============================] - 2s 85ms/step - loss: 0.2276 - accuracy: 0.9393 - val_loss: 0.2249 - val_accuracy: 0.9500\n",
      "Epoch 44/50\n",
      "18/18 [==============================] - 1s 81ms/step - loss: 0.2141 - accuracy: 0.9321 - val_loss: 0.2079 - val_accuracy: 0.9500\n",
      "Epoch 45/50\n",
      "18/18 [==============================] - 1s 82ms/step - loss: 0.2027 - accuracy: 0.9393 - val_loss: 0.2092 - val_accuracy: 0.9643\n",
      "Epoch 46/50\n",
      "18/18 [==============================] - 1s 80ms/step - loss: 0.2028 - accuracy: 0.9339 - val_loss: 0.1979 - val_accuracy: 0.9429\n",
      "Epoch 47/50\n",
      "18/18 [==============================] - 1s 80ms/step - loss: 0.1908 - accuracy: 0.9429 - val_loss: 0.1939 - val_accuracy: 0.9643\n",
      "Epoch 48/50\n",
      "18/18 [==============================] - 1s 82ms/step - loss: 0.1826 - accuracy: 0.9482 - val_loss: 0.1932 - val_accuracy: 0.9643\n",
      "Epoch 49/50\n",
      "18/18 [==============================] - 1s 81ms/step - loss: 0.2004 - accuracy: 0.9411 - val_loss: 0.2044 - val_accuracy: 0.9429\n",
      "Epoch 50/50\n",
      "18/18 [==============================] - 1s 82ms/step - loss: 0.1903 - accuracy: 0.9446 - val_loss: 0.1821 - val_accuracy: 0.9714\n"
     ]
    }
   ],
   "source": [
    "history = model.fit(\n",
    "    train_data,\n",
    "    validation_data=val_data,\n",
    "    epochs=50,\n",
    "    callbacks=[\n",
    "        tf.keras.callbacks.EarlyStopping(\n",
    "            monitor='val_loss',\n",
    "            patience=3,\n",
    "            restore_best_weights=True\n",
    "        )\n",
    "    ]\n",
    ")"
   ]
  },
  {
   "cell_type": "code",
   "execution_count": 12,
   "id": "9a7bf5ac-86aa-4e82-b207-afb95851df58",
   "metadata": {},
   "outputs": [
    {
     "data": {
      "image/png": "[encoded data removed]",
      "text/plain": [
       "<Figure size 640x480 with 1 Axes>"
      ]
     },
     "metadata": {},
     "output_type": "display_data"
    }
   ],
   "source": [
    "plt.plot(history.history['loss'])\n",
    "plt.plot(history.history['val_loss'])\n",
    "plt.title('Training and Validation Loss Over Time')\n",
    "plt.xlabel('Epoch')\n",
    "plt.ylabel('Loss')\n",
    "plt.legend(['train_loss', 'val_loss'])\n",
    "plt.show()"
   ]
  },
  {
   "cell_type": "code",
   "execution_count": 13,
   "id": "098f531e-c612-4281-8b0c-52df823f5bd1",
   "metadata": {},
   "outputs": [],
   "source": [
    "def evaluate_model(model, test_data):\n",
    "    \n",
    "    results = model.evaluate(test_data, verbose=0)\n",
    "    loss = results[0]\n",
    "    acc = results[1]\n",
    "    \n",
    "    print(\"    Test Loss: {:.5f}\".format(loss))\n",
    "    print(\"Test Accuracy: {:.2f}%\".format(acc * 100))\n",
    "    \n",
    "    y_pred = np.squeeze((model.predict(test_data) >= 0.5).astype(np.int))\n",
    "    cm = confusion_matrix(test_data.labels, y_pred)\n",
    "    clr = classification_report(test_data.labels, y_pred, target_names=[\"NEGATIVE\", \"POSITIVE\"])\n",
    "    \n",
    "    plt.figure(figsize=(6, 6))\n",
    "    sns.heatmap(cm, annot=True, fmt='g', vmin=0, cmap='Blues', cbar=False)\n",
    "    plt.xticks(ticks=np.arange(2) + 0.5, labels=[\"NEGATIVE\", \"POSITIVE\"])\n",
    "    plt.yticks(ticks=np.arange(2) + 0.5, labels=[\"NEGATIVE\", \"POSITIVE\"])\n",
    "    plt.xlabel(\"Predicted\")\n",
    "    plt.ylabel(\"Actual\")\n",
    "    plt.title(\"Confusion Matrix\")\n",
    "    plt.show()\n",
    "    print(\"Classification Report:\\n----------------------\\n\", clr)"
   ]
  },
  {
   "cell_type": "code",
   "execution_count": 14,
   "id": "c1e6d4d1-e056-4279-aba3-bdbdcd5f3a66",
   "metadata": {},
   "outputs": [],
   "source": [
    "import cv2\n",
    "from scipy import ndimage as ndi\n",
    "\n",
    "# Define the Gabor filter parameters\n",
    "ksize = 9  # kernel size\n",
    "sigma = 0.5  # Standard deviation of the Gaussian function\n",
    "theta = np.pi / 4  # Orientation of the Gabor filter\n",
    "lamda = np.pi / 2  # Wavelength of the sinusoidal factor\n",
    "gamma = 0.5  # Spatial aspect ratio"
   ]
  },
  {
   "cell_type": "code",
   "execution_count": 15,
   "id": "0857d2b5-e58d-4d1b-a16d-b83c84ab2894",
   "metadata": {},
   "outputs": [],
   "source": [
    "# Create the Gabor filter kernel\n",
    "kernel = cv2.getGaborKernel((ksize, ksize), sigma, theta, lamda, gamma, 0, ktype=cv2.CV_32F)"
   ]
  },
  {
   "cell_type": "code",
   "execution_count": 16,
   "id": "952dde3b-5295-473e-8035-b490f2dfabd6",
   "metadata": {},
   "outputs": [],
   "source": [
    "def apply_gabor_filter(image):\n",
    "    # Convert the image to grayscale\n",
    "    gray = cv2.cvtColor(image, cv2.COLOR_RGB2GRAY)\n",
    "    # Apply the Gabor filter kernel to the image\n",
    "    filtered = ndi.convolve(gray, kernel, mode='wrap')\n",
    "    return filtered.reshape(image.shape)"
   ]
  },
  {
   "cell_type": "code",
   "execution_count": 17,
   "id": "5f283387-687c-44cc-af03-695039e24453",
   "metadata": {},
   "outputs": [],
   "source": [
    "# Modify the data generator to apply Gabor filter to the images\n",
    "train_gen = tf.keras.preprocessing.image.ImageDataGenerator(\n",
    "    rescale=1./255,\n",
    "    validation_split=0.2,\n",
    "    preprocessing_function=apply_gabor_filter\n",
    ")"
   ]
  },
  {
   "cell_type": "code",
   "execution_count": 18,
   "id": "0d328a1e-fc9b-423d-95d0-1b346fb4800a",
   "metadata": {},
   "outputs": [
    {
     "name": "stdout",
     "output_type": "stream",
     "text": [
      "Found 140 validated image filenames belonging to 2 classes.\n"
     ]
    }
   ],
   "source": [
    "val_data = train_gen.flow_from_dataframe(\n",
    "    train_df,\n",
    "    x_col='Filepath',\n",
    "    y_col='Label',\n",
    "    target_size=(120, 120),\n",
    "    color_mode='rgb',\n",
    "    class_mode='binary',\n",
    "    batch_size=32,\n",
    "    shuffle=True,\n",
    "    seed=42,\n",
    "    subset='validation'\n",
    ")"
   ]
  },
  {
   "cell_type": "code",
   "execution_count": 19,
   "id": "07eb8dbc-a845-41bd-89e6-b27bb58b81a3",
   "metadata": {},
   "outputs": [
    {
     "name": "stdout",
     "output_type": "stream",
     "text": [
      "Found 300 validated image filenames belonging to 2 classes.\n"
     ]
    }
   ],
   "source": [
    "test_data = train_gen.flow_from_dataframe(\n",
    "    test_df,\n",
    "    x_col='Filepath',\n",
    "    y_col='Label',\n",
    "    target_size=(120, 120),\n",
    "    color_mode='rgb',\n",
    "    class_mode='binary',\n",
    "    batch_size=32,\n",
    "    shuffle=False,\n",
    "    seed=42\n",
    ")"
   ]
  },
  {
   "cell_type": "code",
   "execution_count": null,
   "id": "48c667e3-952f-4d41-ae41-886674907f66",
   "metadata": {},
   "outputs": [],
   "source": []
  }
 ],
 "metadata": {
  "kernelspec": {
   "display_name": "Python 3 (ipykernel)",
   "language": "python",
   "name": "python3"
  },
  "language_info": {
   "codemirror_mode": {
    "name": "ipython",
    "version": 3
   },
   "file_extension": ".py",
   "mimetype": "text/x-python",
   "name": "python",
   "nbconvert_exporter": "python",
   "pygments_lexer": "ipython3",
   "version": "3.8.18"
  }
 },
 "nbformat": 4,
 "nbformat_minor": 5
}
