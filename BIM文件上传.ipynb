{
 "cells": [
  {
   "cell_type": "code",
   "execution_count": 1,
   "id": "9ca6b599-fec0-4a81-b0a5-a32206716e8f",
   "metadata": {},
   "outputs": [
    {
     "name": "stdout",
     "output_type": "stream",
     "text": [
      " * Serving Flask app '__main__'\n",
      " * Debug mode: on\n"
     ]
    },
    {
     "name": "stderr",
     "output_type": "stream",
     "text": [
      "WARNING: This is a development server. Do not use it in a production deployment. Use a production WSGI server instead.\n",
      " * Running on http://127.0.0.1:5000\n",
      "Press CTRL+C to quit\n",
      " * Restarting with stat\n"
     ]
    },
    {
     "ename": "SystemExit",
     "evalue": "1",
     "output_type": "error",
     "traceback": [
      "An exception has occurred, use %tb to see the full traceback.\n",
      "\u001b[1;31mSystemExit\u001b[0m\u001b[1;31m:\u001b[0m 1\n"
     ]
    },
    {
     "name": "stderr",
     "output_type": "stream",
     "text": [
      "D:\\Anaconda3\\envs\\tf2x\\lib\\site-packages\\IPython\\core\\interactiveshell.py:3516: UserWarning: To exit: use 'exit', 'quit', or Ctrl-D.\n",
      "  warn(\"To exit: use 'exit', 'quit', or Ctrl-D.\", stacklevel=1)\n"
     ]
    }
   ],
   "source": [
    "from flask import Flask, request, jsonify\n",
    "import os\n",
    "\n",
    "app = Flask(__name__)\n",
    "\n",
    "# 设置上传文件存储目录\n",
    "UPLOAD_FOLDER = 'bim_uploads'\n",
    "app.config['UPLOAD_FOLDER'] = UPLOAD_FOLDER\n",
    "\n",
    "# 允许上传的文件类型\n",
    "ALLOWED_EXTENSIONS = {'rvt', 'ifc', 'ifcxml', 'ifczip', 'nwd', 'nwc'}\n",
    "\n",
    "# 检查文件扩展名是否合法\n",
    "def allowed_file(filename):\n",
    "    return '.' in filename and filename.rsplit('.', 1)[1].lower() in ALLOWED_EXTENSIONS\n",
    "\n",
    "# 文件上传路由\n",
    "@app.route('/upload_bim', methods=['POST'])\n",
    "def upload_bim_file():\n",
    "    # 检查是否有文件被上传\n",
    "    if 'file' not in request.files:\n",
    "        return jsonify({'error': 'No file part'})\n",
    "\n",
    "    file = request.files['file']\n",
    "\n",
    "    # 如果用户没有选择文件，也要进行检查\n",
    "    if file.filename == '':\n",
    "        return jsonify({'error': 'No selected file'})\n",
    "\n",
    "    # 检查文件类型是否合法\n",
    "    if file and allowed_file(file.filename):\n",
    "        # 保存文件到指定目录\n",
    "        filename = file.filename\n",
    "        file.save(os.path.join(app.config['UPLOAD_FOLDER'], filename))\n",
    "        return jsonify({'message': 'BIM file uploaded successfully', 'filename': filename})\n",
    "    else:\n",
    "        return jsonify({'error': 'Invalid file type'})\n",
    "\n",
    "if __name__ == '__main__':\n",
    "    app.run(debug=True)\n"
   ]
  },
  {
   "cell_type": "code",
   "execution_count": null,
   "id": "90080208-6b84-4c53-bbf2-2ecaa7050472",
   "metadata": {},
   "outputs": [],
   "source": []
  }
 ],
 "metadata": {
  "kernelspec": {
   "display_name": "Python 3 (ipykernel)",
   "language": "python",
   "name": "python3"
  },
  "language_info": {
   "codemirror_mode": {
    "name": "ipython",
    "version": 3
   },
   "file_extension": ".py",
   "mimetype": "text/x-python",
   "name": "python",
   "nbconvert_exporter": "python",
   "pygments_lexer": "ipython3",
   "version": "3.8.18"
  }
 },
 "nbformat": 4,
 "nbformat_minor": 5
}
