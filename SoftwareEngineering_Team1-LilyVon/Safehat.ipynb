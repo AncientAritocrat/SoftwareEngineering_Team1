{
 "cells": [
  {
   "cell_type": "code",
   "execution_count": null,
   "id": "e9583ef1-dd22-4b49-9835-6e2934e3bcd9",
   "metadata": {},
   "outputs": [],
   "source": [
    "from ultralytics import YOLO"
   ]
  },
  {
   "cell_type": "code",
   "execution_count": null,
   "id": "d7691e1d-ce4c-4532-b1a0-7d83886dea28",
   "metadata": {},
   "outputs": [],
   "source": [
    "#train\n",
    "model = YOLO('yolov8n.pt')\n",
    "model.train(data='safehat.yaml', epochs=100)"
   ]
  },
  {
   "cell_type": "code",
   "execution_count": null,
   "id": "dc83a3e4-fc27-4b45-b231-3d471a89674a",
   "metadata": {},
   "outputs": [],
   "source": [
    "model.val()"
   ]
  },
  {
   "cell_type": "code",
   "execution_count": null,
   "id": "2ab32b31-0de4-4ce2-8a76-cd80d853b39f",
   "metadata": {},
   "outputs": [],
   "source": [
    "#test\n",
    "model.predict('',save=True)\n",
    "model.predict('',save=True)"
   ]
  },
  {
   "cell_type": "code",
   "execution_count": null,
   "id": "f9a30ba2-11fc-4628-901b-8087561d2364",
   "metadata": {},
   "outputs": [],
   "source": [
    "model.predict('',save=True,classes=[0,2],line_width=30)\n",
    "model.predict('',save=True,classes=[0,2],line_width=30)\n",
    "model.predict('',save=True,classes=[0,2],line_width=30)\n",
    "model.predict('',save=True,classes=[0,2],line_width=30)"
   ]
  }
 ],
 "metadata": {
  "kernelspec": {
   "display_name": "Python 3 (ipykernel)",
   "language": "python",
   "name": "python3"
  },
  "language_info": {
   "codemirror_mode": {
    "name": "ipython",
    "version": 3
   },
   "file_extension": ".py",
   "mimetype": "text/x-python",
   "name": "python",
   "nbconvert_exporter": "python",
   "pygments_lexer": "ipython3",
   "version": "3.8.18"
  }
 },
 "nbformat": 4,
 "nbformat_minor": 5
}
